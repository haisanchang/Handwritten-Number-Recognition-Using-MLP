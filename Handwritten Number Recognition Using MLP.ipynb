{
 "cells": [
  {
   "cell_type": "markdown",
   "metadata": {},
   "source": [
    "# Handwritten Number Recognition Using MLP"
   ]
  },
  {
   "cell_type": "code",
   "execution_count": 1,
   "metadata": {},
   "outputs": [
    {
     "name": "stderr",
     "output_type": "stream",
     "text": [
      "D:\\Anaconda3\\lib\\site-packages\\h5py\\__init__.py:36: FutureWarning: Conversion of the second argument of issubdtype from `float` to `np.floating` is deprecated. In future, it will be treated as `np.float64 == np.dtype(float).type`.\n",
      "  from ._conv import register_converters as _register_converters\n",
      "Using TensorFlow backend.\n"
     ]
    }
   ],
   "source": [
    "import numpy as np\n",
    "import pandas as pd\n",
    "import matplotlib.pyplot as plt\n",
    "from keras.models import Sequential\n",
    "from keras.layers import Dense\n",
    "from keras.layers import Dropout\n",
    "from keras.datasets import mnist\n",
    "from keras.utils import np_utils\n",
    "from sklearn.metrics import  confusion_matrix"
   ]
  },
  {
   "cell_type": "code",
   "execution_count": 2,
   "metadata": {},
   "outputs": [],
   "source": [
    "(train_image, train_target_column), (test_image, test_target_column) = mnist.load_data()"
   ]
  },
  {
   "cell_type": "code",
   "execution_count": 3,
   "metadata": {},
   "outputs": [
    {
     "name": "stdout",
     "output_type": "stream",
     "text": [
      "訓練集圖片個數:  (60000, 28, 28)\n",
      "訓練集目標欄位行數:  (60000,)\n",
      "測試集圖片個數:  (10000, 28, 28)\n",
      "測試集目標欄位行數:  (10000,)\n"
     ]
    }
   ],
   "source": [
    "# 訓練集圖片60000張；測試集10000張\n",
    "\n",
    "print('訓練集圖片個數: ', train_image.shape)\n",
    "print('訓練集目標欄位行數: ', train_target_column.shape)\n",
    "print('測試集圖片個數: ', test_image.shape)\n",
    "print('測試集目標欄位行數: ',test_target_column.shape)"
   ]
  },
  {
   "cell_type": "code",
   "execution_count": 4,
   "metadata": {},
   "outputs": [],
   "source": [
    "# 二維圖片轉一維 (28X28 = 784)\n",
    "train_image_one_dimension = train_image.reshape(60000, 784).astype('float')\n",
    "test_image_one_dimension = test_image.reshape(10000, 784).astype('float')"
   ]
  },
  {
   "cell_type": "code",
   "execution_count": 5,
   "metadata": {},
   "outputs": [],
   "source": [
    "# 標準化，以利提升計算效率\n",
    "train_image_normalized = train_image_one_dimension / 255\n",
    "test_image_normalized = test_image_one_dimension / 255"
   ]
  },
  {
   "cell_type": "code",
   "execution_count": 6,
   "metadata": {},
   "outputs": [],
   "source": [
    "# 將目標欄位轉為one hot encoder\n",
    "train_one_hot = np_utils.to_categorical(train_target_column)\n",
    "test_one_hot = np_utils.to_categorical(test_target_column)"
   ]
  },
  {
   "cell_type": "code",
   "execution_count": 14,
   "metadata": {},
   "outputs": [],
   "source": [
    "# 建立多層感知器模型 (MLP)\n",
    "MLP = Sequential()\n",
    "MLP.add(Dense(units=256, input_dim=784, kernel_initializer='normal', activation='relu'))\n",
    "MLP.add(Dropout(0.5))\n",
    "MLP.add(Dense(units=128, kernel_initializer='normal', activation='relu'))\n",
    "MLP.add(Dropout(0.5))\n",
    "MLP.add(Dense(units=10, kernel_initializer='normal', activation='softmax'))\n"
   ]
  },
  {
   "cell_type": "code",
   "execution_count": 15,
   "metadata": {},
   "outputs": [],
   "source": [
    "# 設定模型損失函數、最優化算法和評估預測結果的方式\n",
    "MLP.compile(loss='categorical_crossentropy',  optimizer='adam', metrics=['accuracy'])"
   ]
  },
  {
   "cell_type": "code",
   "execution_count": 16,
   "metadata": {},
   "outputs": [
    {
     "name": "stdout",
     "output_type": "stream",
     "text": [
      "Train on 48000 samples, validate on 12000 samples\n",
      "Epoch 1/20\n",
      " - 2s - loss: 0.8630 - acc: 0.7333 - val_loss: 0.2676 - val_acc: 0.9217\n",
      "Epoch 2/20\n",
      " - 2s - loss: 0.3386 - acc: 0.9019 - val_loss: 0.1873 - val_acc: 0.9447\n",
      "Epoch 3/20\n",
      " - 2s - loss: 0.2582 - acc: 0.9255 - val_loss: 0.1539 - val_acc: 0.9554\n",
      "Epoch 4/20\n",
      " - 2s - loss: 0.2174 - acc: 0.9368 - val_loss: 0.1310 - val_acc: 0.9616\n",
      "Epoch 5/20\n",
      " - 2s - loss: 0.1888 - acc: 0.9450 - val_loss: 0.1196 - val_acc: 0.9639\n",
      "Epoch 6/20\n",
      " - 2s - loss: 0.1695 - acc: 0.9500 - val_loss: 0.1118 - val_acc: 0.9674\n",
      "Epoch 7/20\n",
      " - 2s - loss: 0.1549 - acc: 0.9547 - val_loss: 0.1022 - val_acc: 0.9692\n",
      "Epoch 8/20\n",
      " - 2s - loss: 0.1409 - acc: 0.9584 - val_loss: 0.0984 - val_acc: 0.9709\n",
      "Epoch 9/20\n",
      " - 2s - loss: 0.1279 - acc: 0.9617 - val_loss: 0.0931 - val_acc: 0.9722\n",
      "Epoch 10/20\n",
      " - 2s - loss: 0.1214 - acc: 0.9644 - val_loss: 0.0910 - val_acc: 0.9725\n",
      "Epoch 11/20\n",
      " - 2s - loss: 0.1166 - acc: 0.9654 - val_loss: 0.0890 - val_acc: 0.9743\n",
      "Epoch 12/20\n",
      " - 2s - loss: 0.1064 - acc: 0.9684 - val_loss: 0.0841 - val_acc: 0.9743\n",
      "Epoch 13/20\n",
      " - 2s - loss: 0.1035 - acc: 0.9690 - val_loss: 0.0821 - val_acc: 0.9750\n",
      "Epoch 14/20\n",
      " - 2s - loss: 0.0964 - acc: 0.9714 - val_loss: 0.0817 - val_acc: 0.9752\n",
      "Epoch 15/20\n",
      " - 2s - loss: 0.0943 - acc: 0.9713 - val_loss: 0.0803 - val_acc: 0.9765\n",
      "Epoch 16/20\n",
      " - 2s - loss: 0.0883 - acc: 0.9733 - val_loss: 0.0808 - val_acc: 0.9766\n",
      "Epoch 17/20\n",
      " - 2s - loss: 0.0857 - acc: 0.9736 - val_loss: 0.0802 - val_acc: 0.9763\n",
      "Epoch 18/20\n",
      " - 2s - loss: 0.0826 - acc: 0.9743 - val_loss: 0.0793 - val_acc: 0.9772\n",
      "Epoch 19/20\n",
      " - 2s - loss: 0.0759 - acc: 0.9759 - val_loss: 0.0771 - val_acc: 0.9771\n",
      "Epoch 20/20\n",
      " - 2s - loss: 0.0720 - acc: 0.9783 - val_loss: 0.0798 - val_acc: 0.9773\n"
     ]
    }
   ],
   "source": [
    "# verbose=顯示訓練過程\n",
    "# 數據擬合\n",
    "trained_MLP = MLP.fit(train_image_normalized, train_one_hot, validation_split=0.2, epochs=20, batch_size=400, verbose=2)"
   ]
  },
  {
   "cell_type": "code",
   "execution_count": 17,
   "metadata": {},
   "outputs": [
    {
     "name": "stdout",
     "output_type": "stream",
     "text": [
      "10000/10000 [==============================] - 0s 35us/step\n",
      "預測精準度: 97.69 %\n"
     ]
    }
   ],
   "source": [
    "accuracy = MLP.evaluate(test_image_normalized, test_one_hot)\n",
    "print('預測精準度:', accuracy[1]*100, '%')"
   ]
  },
  {
   "cell_type": "code",
   "execution_count": 18,
   "metadata": {},
   "outputs": [],
   "source": [
    "prediction = MLP.predict_classes(test_image_normalized)"
   ]
  },
  {
   "cell_type": "code",
   "execution_count": 19,
   "metadata": {},
   "outputs": [],
   "source": [
    "# 繪製圖形\n",
    "def plot_images(images, labels, prediction, idx, num = 1):\n",
    "    fig = plt.gcf()\n",
    "    fig.set_size_inches(12, 14)\n",
    "    \n",
    "    if num>25:\n",
    "        num=25 \n",
    "    \n",
    "    for i in range(0, num):\n",
    "        ax=plt.subplot(5,5, 1+i)\n",
    "        ax.imshow(images[idx], cmap='binary')\n",
    "        title= \"label = \" + str(labels[idx])\n",
    "\n",
    "        if len(prediction) > 0:\n",
    "            title+=\", predict = \" + str(prediction[idx])\n",
    "        \n",
    "        ax.set_title(title, fontsize = 10) \n",
    "        ax.set_xticks([])\n",
    "        ax.set_yticks([])        \n",
    "        idx+=1 \n",
    "    \n",
    "    plt.show()"
   ]
  },
  {
   "cell_type": "code",
   "execution_count": 20,
   "metadata": {},
   "outputs": [
    {
     "data": {
      "text/plain": [
       "array([[ 971,    1,    1,    0,    0,    1,    4,    1,    1,    0],\n",
       "       [   0, 1123,    3,    2,    0,    1,    4,    0,    2,    0],\n",
       "       [   4,    2, 1012,    1,    2,    0,    1,    5,    5,    0],\n",
       "       [   0,    0,    4,  990,    0,    5,    0,    5,    3,    3],\n",
       "       [   0,    0,    3,    0,  962,    0,    6,    0,    0,   11],\n",
       "       [   2,    0,    0,    9,    1,  869,    5,    1,    2,    3],\n",
       "       [   5,    3,    0,    0,    5,    5,  938,    0,    2,    0],\n",
       "       [   3,    4,   12,    2,    0,    0,    0, 1000,    0,    7],\n",
       "       [   5,    0,    2,   11,    3,    4,    7,    4,  936,    2],\n",
       "       [   5,    5,    0,   10,   13,    2,    0,    6,    0,  968]],\n",
       "      dtype=int64)"
      ]
     },
     "execution_count": 20,
     "metadata": {},
     "output_type": "execute_result"
    }
   ],
   "source": [
    "# 使用混淆矩陣查看預測正確與錯誤的數字\n",
    "cm = confusion_matrix(test_target_column, prediction)\n",
    "cm"
   ]
  },
  {
   "cell_type": "code",
   "execution_count": 21,
   "metadata": {},
   "outputs": [
    {
     "data": {
      "text/html": [
       "<div>\n",
       "<style scoped>\n",
       "    .dataframe tbody tr th:only-of-type {\n",
       "        vertical-align: middle;\n",
       "    }\n",
       "\n",
       "    .dataframe tbody tr th {\n",
       "        vertical-align: top;\n",
       "    }\n",
       "\n",
       "    .dataframe thead th {\n",
       "        text-align: right;\n",
       "    }\n",
       "</style>\n",
       "<table border=\"1\" class=\"dataframe\">\n",
       "  <thead>\n",
       "    <tr style=\"text-align: right;\">\n",
       "      <th></th>\n",
       "      <th>actual value</th>\n",
       "      <th>predicted value</th>\n",
       "    </tr>\n",
       "  </thead>\n",
       "  <tbody>\n",
       "    <tr>\n",
       "      <th>1678</th>\n",
       "      <td>2</td>\n",
       "      <td>0</td>\n",
       "    </tr>\n",
       "    <tr>\n",
       "      <th>2098</th>\n",
       "      <td>2</td>\n",
       "      <td>0</td>\n",
       "    </tr>\n",
       "    <tr>\n",
       "      <th>9768</th>\n",
       "      <td>2</td>\n",
       "      <td>0</td>\n",
       "    </tr>\n",
       "    <tr>\n",
       "      <th>9779</th>\n",
       "      <td>2</td>\n",
       "      <td>0</td>\n",
       "    </tr>\n",
       "  </tbody>\n",
       "</table>\n",
       "</div>"
      ],
      "text/plain": [
       "      actual value  predicted value\n",
       "1678             2                0\n",
       "2098             2                0\n",
       "9768             2                0\n",
       "9779             2                0"
      ]
     },
     "execution_count": 21,
     "metadata": {},
     "output_type": "execute_result"
    }
   ],
   "source": [
    "# 隨意抽取預測錯誤的圖片查看，由上可知，實際值為2、預測為02的數量有5個\n",
    "df = pd.DataFrame({'actual value': test_target_column, 'predicted value': prediction})\n",
    "df[(df['actual value']==2) & (df['predicted value']==0)]"
   ]
  },
  {
   "cell_type": "code",
   "execution_count": 22,
   "metadata": {},
   "outputs": [
    {
     "data": {
      "text/html": [
       "<div>\n",
       "<style scoped>\n",
       "    .dataframe tbody tr th:only-of-type {\n",
       "        vertical-align: middle;\n",
       "    }\n",
       "\n",
       "    .dataframe tbody tr th {\n",
       "        vertical-align: top;\n",
       "    }\n",
       "\n",
       "    .dataframe thead th {\n",
       "        text-align: right;\n",
       "    }\n",
       "</style>\n",
       "<table border=\"1\" class=\"dataframe\">\n",
       "  <thead>\n",
       "    <tr style=\"text-align: right;\">\n",
       "      <th></th>\n",
       "      <th>actual value</th>\n",
       "      <th>predicted value</th>\n",
       "    </tr>\n",
       "  </thead>\n",
       "  <tbody>\n",
       "    <tr>\n",
       "      <th>1393</th>\n",
       "      <td>5</td>\n",
       "      <td>3</td>\n",
       "    </tr>\n",
       "    <tr>\n",
       "      <th>2291</th>\n",
       "      <td>5</td>\n",
       "      <td>3</td>\n",
       "    </tr>\n",
       "    <tr>\n",
       "      <th>2597</th>\n",
       "      <td>5</td>\n",
       "      <td>3</td>\n",
       "    </tr>\n",
       "    <tr>\n",
       "      <th>3902</th>\n",
       "      <td>5</td>\n",
       "      <td>3</td>\n",
       "    </tr>\n",
       "    <tr>\n",
       "      <th>4271</th>\n",
       "      <td>5</td>\n",
       "      <td>3</td>\n",
       "    </tr>\n",
       "    <tr>\n",
       "      <th>5937</th>\n",
       "      <td>5</td>\n",
       "      <td>3</td>\n",
       "    </tr>\n",
       "    <tr>\n",
       "      <th>5972</th>\n",
       "      <td>5</td>\n",
       "      <td>3</td>\n",
       "    </tr>\n",
       "    <tr>\n",
       "      <th>6706</th>\n",
       "      <td>5</td>\n",
       "      <td>3</td>\n",
       "    </tr>\n",
       "    <tr>\n",
       "      <th>9422</th>\n",
       "      <td>5</td>\n",
       "      <td>3</td>\n",
       "    </tr>\n",
       "  </tbody>\n",
       "</table>\n",
       "</div>"
      ],
      "text/plain": [
       "      actual value  predicted value\n",
       "1393             5                3\n",
       "2291             5                3\n",
       "2597             5                3\n",
       "3902             5                3\n",
       "4271             5                3\n",
       "5937             5                3\n",
       "5972             5                3\n",
       "6706             5                3\n",
       "9422             5                3"
      ]
     },
     "execution_count": 22,
     "metadata": {},
     "output_type": "execute_result"
    }
   ],
   "source": [
    "# 隨意抽取預測錯誤的圖片查看，由上可知，實際值為5、預測為3的數量有11個\n",
    "df[(df['actual value']==5) & (df['predicted value']==3)]"
   ]
  },
  {
   "cell_type": "code",
   "execution_count": 23,
   "metadata": {
    "scrolled": true
   },
   "outputs": [
    {
     "data": {
      "image/png": "[encoded data removed]",
      "text/plain": [
       "<matplotlib.figure.Figure at 0x1d1f3458eb8>"
      ]
     },
     "metadata": {},
     "output_type": "display_data"
    }
   ],
   "source": [
    "# 顯示預測錯誤的數字，實際是2，預測為0，由圖片可得知，字跡較潦草，確實辨別不易\n",
    "plot_images(test_image, test_target_column, prediction, idx=1678)"
   ]
  },
  {
   "cell_type": "code",
   "execution_count": 24,
   "metadata": {},
   "outputs": [
    {
     "data": {
      "image/png": "[encoded data removed]",
      "text/plain": [
       "<matplotlib.figure.Figure at 0x1d1f34589b0>"
      ]
     },
     "metadata": {},
     "output_type": "display_data"
    }
   ],
   "source": [
    "# 預測錯誤的數字，實際是5，預測為3，由圖片可得知，字跡較潦草，確實辨別不易\n",
    "plot_images(test_image, test_target_column, prediction, idx=1393)"
   ]
  },
  {
   "cell_type": "markdown",
   "metadata": {},
   "source": [
    "# 結論：\n",
    "        以MLP進行手寫辨識，預測精準度：97.69%。字跡過於潦草則辨識不易。\n",
    "        MLP有其限制，後續將使用CNN進一步提升精準度。"
   ]
  }
 ],
 "metadata": {
  "kernelspec": {
   "display_name": "Python 3",
   "language": "python",
   "name": "python3"
  },
  "language_info": {
   "codemirror_mode": {
    "name": "ipython",
    "version": 3
   },
   "file_extension": ".py",
   "mimetype": "text/x-python",
   "name": "python",
   "nbconvert_exporter": "python",
   "pygments_lexer": "ipython3",
   "version": "3.6.4"
  }
 },
 "nbformat": 4,
 "nbformat_minor": 2
}
